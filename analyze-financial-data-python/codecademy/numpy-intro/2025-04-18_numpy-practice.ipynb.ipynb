{
 "cells": [
  {
   "cell_type": "markdown",
   "id": "4c275612-f77d-4bb1-8346-b1de4e75c50e",
   "metadata": {},
   "source": [
    "# 🧪 Practicing NumPy in Python\n",
    "\n",
    "This notebook includes selected notes and practice examples from Codecademy’s *Introduction to NumPy* module. Rather than documenting every step, I’ve focused on the concepts that felt most relevant to reinforce, revisit, or apply in future analysis.\n",
    "\n",
    "---\n",
    "\n",
    "### Why NumPy?\n",
    "\n",
    "Although I’ve worked with statistical concepts in R (including multivariate modeling during my MA in psychology), I’m still building fluency in Python. NumPy offers a fast, flexible way to perform calculations and manipulate numerical data—especially useful when I start working with behavioral datasets or preparing data for storytelling.\n",
    "\n",
    "---\n",
    "\n",
    "This is part of my ongoing effort to connect past training with new tools, and to make my learning process visible as I build toward more complex, project-based work.\n"
   ]
  },
  {
   "cell_type": "code",
   "execution_count": 2,
   "id": "5c91b74b-8215-4b8f-8a18-79f97e765d1a",
   "metadata": {},
   "outputs": [],
   "source": [
    "import numpy as np"
   ]
  },
  {
   "cell_type": "markdown",
   "id": "3c8fd3f3-381d-48b4-a84c-4167378d66de",
   "metadata": {},
   "source": [
    "### Two-Dimensional Arrays\n",
    "Multiple arrays can be stored in a single two-dimensional array:"
   ]
  },
  {
   "cell_type": "code",
   "execution_count": 3,
   "id": "b4b34ee1-234a-4265-92e9-7d2086676e26",
   "metadata": {},
   "outputs": [
    {
     "data": {
      "text/plain": [
       "array([[10, 11, 12, 13, 14, 15],\n",
       "       [20, 21, 22, 23, 24, 25],\n",
       "       [30, 31, 32, 33, 34, 35]])"
      ]
     },
     "execution_count": 3,
     "metadata": {},
     "output_type": "execute_result"
    }
   ],
   "source": [
    "np.array([[10, 11, 12, 13, 14, 15],\n",
    "         [20, 21, 22, 23, 24, 25],\n",
    "         [30, 31, 32, 33, 34, 35]])"
   ]
  },
  {
   "cell_type": "markdown",
   "id": "4e1adab5-21a6-47c2-918b-99dbf02457f1",
   "metadata": {},
   "source": [
    "Two-dimensional arrays have the same number of elements.\n",
    "For example, the following is NOT a two-dimensional array:\n",
    "(Note, in NumPy 2.0 and above, the below will raise a `ValueError`:\n",
    "\n",
    "```python\n",
    "np.array([[1,2,3],\n",
    "          [21, 22]])\n",
    "```"
   ]
  },
  {
   "cell_type": "markdown",
   "id": "50183905-ee1b-4d56-a3a6-fda608c54660",
   "metadata": {},
   "source": [
    "### Accessing NumPy Array Elements by Index\n",
    "Like Python lists, NumPy arrays are **zero-indexed**\n",
    "\n",
    "Example:"
   ]
  },
  {
   "cell_type": "code",
   "execution_count": 5,
   "id": "be85ae54-d29f-43bd-8fee-2dd70ef77699",
   "metadata": {},
   "outputs": [
    {
     "name": "stdout",
     "output_type": "stream",
     "text": [
      "0\n",
      "4\n"
     ]
    }
   ],
   "source": [
    "new_array = np.array([0, 1, 2, 3, 4, 5, 6])\n",
    "print(new_array[0])\n",
    "print(new_array[4])"
   ]
  },
  {
   "cell_type": "markdown",
   "id": "6e2ba7b8-ff76-4364-a030-d7e4e4cff4b0",
   "metadata": {},
   "source": [
    "**Negative indices** are used to count from the opposite end of the array and start with `-1`"
   ]
  },
  {
   "cell_type": "code",
   "execution_count": 7,
   "id": "f1d49642-4bce-4bc5-aa99-5ef8d2e22be9",
   "metadata": {},
   "outputs": [
    {
     "name": "stdout",
     "output_type": "stream",
     "text": [
      "6\n",
      "3\n"
     ]
    }
   ],
   "source": [
    "print(new_array[-1])\n",
    "print(new_array[-4])"
   ]
  },
  {
   "cell_type": "markdown",
   "id": "3701bd25-862d-4e23-8a46-a419aa6af077",
   "metadata": {},
   "source": [
    "To select **multiple elements** in the array, define a range.\n",
    "In the folowing example `new_array[2:5]` will select all alements from `new_array[2]` to `new_array[5]`, *including* `new_array[2]` but *excluding* `new_array[5]`"
   ]
  },
  {
   "cell_type": "code",
   "execution_count": 9,
   "id": "de59bf63-aa41-4e34-a5c4-f8d527a43772",
   "metadata": {},
   "outputs": [
    {
     "name": "stdout",
     "output_type": "stream",
     "text": [
      "[2 3 4]\n"
     ]
    }
   ],
   "source": [
    "print(new_array[2:5])"
   ]
  },
  {
   "cell_type": "markdown",
   "id": "5fe606dc-9536-478b-bf97-37ed3832ae77",
   "metadata": {},
   "source": [
    "To select **all elements *before*** `new_array[4]`, use:"
   ]
  },
  {
   "cell_type": "code",
   "execution_count": 11,
   "id": "856ad9f7-8938-4eee-836d-27f051ca219c",
   "metadata": {},
   "outputs": [
    {
     "name": "stdout",
     "output_type": "stream",
     "text": [
      "[0 1 2 3]\n"
     ]
    }
   ],
   "source": [
    "print(new_array[:4])"
   ]
  },
  {
   "cell_type": "markdown",
   "id": "9c373b43-6421-4e38-8ec7-92a06406ddc5",
   "metadata": {},
   "source": [
    "**Negative indices** can also be used to select multiple elements. The following will select the last 4 elements in the array:"
   ]
  },
  {
   "cell_type": "code",
   "execution_count": 12,
   "id": "4bb899de-bdb7-409f-9450-8a07c0ba3773",
   "metadata": {},
   "outputs": [
    {
     "name": "stdout",
     "output_type": "stream",
     "text": [
      "[3 4 5 6]\n"
     ]
    }
   ],
   "source": [
    "print(new_array[-4:])"
   ]
  },
  {
   "cell_type": "code",
   "execution_count": null,
   "id": "0b817a53-2f63-40de-be9c-95bc602ba0c8",
   "metadata": {},
   "outputs": [],
   "source": []
  }
 ],
 "metadata": {
  "kernelspec": {
   "display_name": "Python 3 (ipykernel)",
   "language": "python",
   "name": "python3"
  },
  "language_info": {
   "codemirror_mode": {
    "name": "ipython",
    "version": 3
   },
   "file_extension": ".py",
   "mimetype": "text/x-python",
   "name": "python",
   "nbconvert_exporter": "python",
   "pygments_lexer": "ipython3",
   "version": "3.12.3"
  }
 },
 "nbformat": 4,
 "nbformat_minor": 5
}
