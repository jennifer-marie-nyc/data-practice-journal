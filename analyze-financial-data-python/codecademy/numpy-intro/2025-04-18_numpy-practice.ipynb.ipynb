{
 "cells": [
  {
   "cell_type": "markdown",
   "id": "4c275612-f77d-4bb1-8346-b1de4e75c50e",
   "metadata": {},
   "source": [
    "# 🧪 Practicing NumPy in Python\n",
    "\n",
    "This notebook includes selected notes and practice examples from Codecademy’s *Introduction to NumPy* module. Rather than documenting every step, I’ve focused on the concepts that felt most relevant to reinforce, revisit, or apply in future analysis.\n",
    "\n",
    "---\n",
    "\n",
    "### Why NumPy?\n",
    "\n",
    "Although I’ve worked with statistical concepts in R (including multivariate modeling during my MA in psychology), I’m still building fluency in Python. NumPy offers a fast, flexible way to perform calculations and manipulate numerical data—especially useful when I start working with behavioral datasets or preparing data for storytelling.\n",
    "\n",
    "---\n",
    "\n",
    "This is part of my ongoing effort to connect past training with new tools, and to make my learning process visible as I build toward more complex, project-based work.\n"
   ]
  },
  {
   "cell_type": "code",
   "execution_count": 6,
   "id": "5c91b74b-8215-4b8f-8a18-79f97e765d1a",
   "metadata": {},
   "outputs": [],
   "source": [
    "import numpy as np"
   ]
  },
  {
   "cell_type": "markdown",
   "id": "3c8fd3f3-381d-48b4-a84c-4167378d66de",
   "metadata": {},
   "source": [
    "### Two-Dimensional Arrays\n",
    "Multiple arrays can be stored in a single two-dimensional array:"
   ]
  },
  {
   "cell_type": "code",
   "execution_count": 7,
   "id": "b4b34ee1-234a-4265-92e9-7d2086676e26",
   "metadata": {},
   "outputs": [
    {
     "data": {
      "text/plain": [
       "array([[10, 11, 12, 13, 14, 15],\n",
       "       [20, 21, 22, 23, 24, 25],\n",
       "       [30, 31, 32, 33, 34, 35]])"
      ]
     },
     "execution_count": 7,
     "metadata": {},
     "output_type": "execute_result"
    }
   ],
   "source": [
    "np.array([[10, 11, 12, 13, 14, 15],\n",
    "         [20, 21, 22, 23, 24, 25],\n",
    "         [30, 31, 32, 33, 34, 35]])"
   ]
  },
  {
   "cell_type": "markdown",
   "id": "4e1adab5-21a6-47c2-918b-99dbf02457f1",
   "metadata": {},
   "source": [
    "Two-dimensional arrays have the same number of elements.\n",
    "For example, the following is NOT a two-dimensional array:\n",
    "(Note, in NumPy 2.0 and above, the below will raise a `ValueError`."
   ]
  },
  {
   "cell_type": "code",
   "execution_count": 8,
   "id": "5a79052d-2efc-4a67-ae70-a94321aab5a8",
   "metadata": {},
   "outputs": [
    {
     "ename": "ValueError",
     "evalue": "setting an array element with a sequence. The requested array has an inhomogeneous shape after 1 dimensions. The detected shape was (2,) + inhomogeneous part.",
     "output_type": "error",
     "traceback": [
      "\u001b[31m---------------------------------------------------------------------------\u001b[39m",
      "\u001b[31mValueError\u001b[39m                                Traceback (most recent call last)",
      "\u001b[36mCell\u001b[39m\u001b[36m \u001b[39m\u001b[32mIn[8]\u001b[39m\u001b[32m, line 1\u001b[39m\n\u001b[32m----> \u001b[39m\u001b[32m1\u001b[39m \u001b[43mnp\u001b[49m\u001b[43m.\u001b[49m\u001b[43marray\u001b[49m\u001b[43m(\u001b[49m\u001b[43m[\u001b[49m\u001b[43m[\u001b[49m\u001b[32;43m1\u001b[39;49m\u001b[43m,\u001b[49m\u001b[32;43m2\u001b[39;49m\u001b[43m,\u001b[49m\u001b[32;43m3\u001b[39;49m\u001b[43m]\u001b[49m\u001b[43m,\u001b[49m\n\u001b[32m      2\u001b[39m \u001b[43m          \u001b[49m\u001b[43m[\u001b[49m\u001b[32;43m21\u001b[39;49m\u001b[43m,\u001b[49m\u001b[43m \u001b[49m\u001b[32;43m22\u001b[39;49m\u001b[43m]\u001b[49m\u001b[43m]\u001b[49m\u001b[43m)\u001b[49m\n",
      "\u001b[31mValueError\u001b[39m: setting an array element with a sequence. The requested array has an inhomogeneous shape after 1 dimensions. The detected shape was (2,) + inhomogeneous part."
     ]
    }
   ],
   "source": [
    "np.array([[1,2,3],\n",
    "          [21, 22]])"
   ]
  },
  {
   "cell_type": "code",
   "execution_count": null,
   "id": "a5624b67-3580-4556-93ac-d6debd0e8d5c",
   "metadata": {},
   "outputs": [],
   "source": []
  }
 ],
 "metadata": {
  "kernelspec": {
   "display_name": "Python 3 (ipykernel)",
   "language": "python",
   "name": "python3"
  },
  "language_info": {
   "codemirror_mode": {
    "name": "ipython",
    "version": 3
   },
   "file_extension": ".py",
   "mimetype": "text/x-python",
   "name": "python",
   "nbconvert_exporter": "python",
   "pygments_lexer": "ipython3",
   "version": "3.12.3"
  }
 },
 "nbformat": 4,
 "nbformat_minor": 5
}
