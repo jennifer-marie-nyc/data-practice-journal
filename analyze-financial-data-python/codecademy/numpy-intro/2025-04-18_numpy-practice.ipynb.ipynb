{
 "cells": [
  {
   "cell_type": "markdown",
   "id": "4c275612-f77d-4bb1-8346-b1de4e75c50e",
   "metadata": {},
   "source": [
    "# 🧪 Practicing NumPy in Python\n",
    "\n",
    "This notebook includes selected notes and practice examples from Codecademy’s *Introduction to NumPy* module. Rather than documenting every step, I’ve focused on the concepts that felt most relevant to reinforce, revisit, or apply in future analysis.\n",
    "\n",
    "---\n",
    "\n",
    "### Why NumPy?\n",
    "\n",
    "Although I’ve worked with statistical concepts in R (including multivariate modeling during my MA in psychology), I’m still building fluency in Python. NumPy offers a fast, flexible way to perform calculations and manipulate numerical data—especially useful when I start working with behavioral datasets or preparing data for storytelling.\n",
    "\n",
    "---\n",
    "\n",
    "This is part of my ongoing effort to connect past training with new tools, and to make my learning process visible as I build toward more complex, project-based work.\n"
   ]
  },
  {
   "cell_type": "code",
   "execution_count": null,
   "id": "ca26aca8-bf0e-45c5-8dd9-d221bc4661c4",
   "metadata": {},
   "outputs": [],
   "source": []
  }
 ],
 "metadata": {
  "kernelspec": {
   "display_name": "Python 3 (ipykernel)",
   "language": "python",
   "name": "python3"
  },
  "language_info": {
   "codemirror_mode": {
    "name": "ipython",
    "version": 3
   },
   "file_extension": ".py",
   "mimetype": "text/x-python",
   "name": "python",
   "nbconvert_exporter": "python",
   "pygments_lexer": "ipython3",
   "version": "3.12.3"
  }
 },
 "nbformat": 4,
 "nbformat_minor": 5
}
