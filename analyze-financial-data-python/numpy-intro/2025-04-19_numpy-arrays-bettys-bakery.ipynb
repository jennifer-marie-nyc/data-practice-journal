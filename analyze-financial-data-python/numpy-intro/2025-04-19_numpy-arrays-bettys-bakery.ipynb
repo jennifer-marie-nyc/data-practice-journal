{
 "cells": [
  {
   "cell_type": "markdown",
   "id": "2cb888e8-2867-4ec3-9606-d5404e293ef9",
   "metadata": {},
   "source": [
    "# 🍰 Betty’s Bakery: NumPy Practice\n",
    "\n",
    "This notebook contains my personal work on **NumPy arrays** as part of Codecademy's *\"Betty’s Bakery\"* exercise. The prompt and general structure were provided by Codecademy, but all code, notes, and explanations are my own.\n",
    "\n",
    "---\n",
    "\n",
    "### 🧠 Focus Areas\n",
    "- Creating and manipulating NumPy arrays\n",
    "- Practicing indexing, slicing, and reshaping\n",
    "- Reinforcing foundational NumPy skills in a real-world-style scenario\n",
    "\n",
    "This exercise is part of my ongoing [Data Practice Journal](https://github.com/jennifer-marie-nyc/data-practice-journal), where I document consistent coding work, build fluency, and connect technical skills to behavioral insights and future projects.\n"
   ]
  },
  {
   "cell_type": "code",
   "execution_count": 2,
   "id": "a6d2e14f-fbe0-4f53-a431-932fc6140230",
   "metadata": {},
   "outputs": [],
   "source": [
    "import numpy as np"
   ]
  },
  {
   "cell_type": "code",
   "execution_count": 3,
   "id": "894e5860-2d34-447f-95b2-cfb146283be2",
   "metadata": {},
   "outputs": [],
   "source": [
    "cupcakes = np.array([2, 0.75, 2, 1, 0.5])"
   ]
  },
  {
   "cell_type": "code",
   "execution_count": 7,
   "id": "03f42021-8d45-418e-88b7-39b72960f74f",
   "metadata": {},
   "outputs": [],
   "source": [
    "recipes = np.genfromtxt(\"recipes.csv\", delimiter=\",\")"
   ]
  },
  {
   "cell_type": "code",
   "execution_count": 8,
   "id": "4f3f497b-7685-4433-afc6-0adea03def85",
   "metadata": {},
   "outputs": [
    {
     "name": "stdout",
     "output_type": "stream",
     "text": [
      "[[2.    0.75  2.    1.    0.5  ]\n",
      " [1.    0.125 1.    1.    0.125]\n",
      " [2.75  1.5   1.    0.    1.   ]\n",
      " [4.    0.5   2.    2.    0.5  ]]\n"
     ]
    }
   ],
   "source": [
    "print(recipes)"
   ]
  },
  {
   "cell_type": "code",
   "execution_count": 16,
   "id": "7816a8f7-e3cf-457f-bd5d-f0230d7574b9",
   "metadata": {},
   "outputs": [
    {
     "name": "stdout",
     "output_type": "stream",
     "text": [
      "[2. 1. 1. 2.]\n"
     ]
    }
   ],
   "source": [
    "# The 3rd column represents the number of eggs that each recipe needs.\n",
    "\n",
    "# Select all elements from the 3rd column and save them to the variable eggs.\n",
    "\n",
    "eggs = recipes[: ,2]\n",
    "print(eggs)"
   ]
  },
  {
   "cell_type": "code",
   "execution_count": 17,
   "id": "ee2191f2-f779-4bc5-b98b-ea659a53a817",
   "metadata": {},
   "outputs": [
    {
     "data": {
      "text/plain": [
       "array([False,  True,  True, False])"
      ]
     },
     "execution_count": 17,
     "metadata": {},
     "output_type": "execute_result"
    }
   ],
   "source": [
    "# Which recipes require exactly 1 egg? Use a logical statement to get True or False for each value of eggs.\n",
    "eggs == 1"
   ]
  },
  {
   "cell_type": "code",
   "execution_count": 18,
   "id": "70a648f6-4675-4989-827d-7b84aa81e96b",
   "metadata": {},
   "outputs": [
    {
     "name": "stdout",
     "output_type": "stream",
     "text": [
      "[2.75 1.5  1.   0.   1.  ]\n"
     ]
    }
   ],
   "source": [
    "# Betty is going to make 2 batches of cupcakes (1st row) and 1 batch of cookies (3rd row).\n",
    "\n",
    "# You already have a variable for cupcakes. Create a variable for cookies with the data from the 3rd row.\n",
    "\n",
    "cookies = recipes[2, :]\n",
    "print(cookies)"
   ]
  },
  {
   "cell_type": "code",
   "execution_count": 19,
   "id": "d5b0b6b1-01ae-4eae-9afe-8d419551910f",
   "metadata": {},
   "outputs": [
    {
     "name": "stdout",
     "output_type": "stream",
     "text": [
      "[4.  1.5 4.  2.  1. ]\n"
     ]
    }
   ],
   "source": [
    "# Get the number of ingredients for a double batch of cupcakes by using multiplication on cupcakes. Save your new variable to double_batch.\n",
    "\n",
    "double_batch = cupcakes * 2\n",
    "\n",
    "print(double_batch)"
   ]
  },
  {
   "cell_type": "code",
   "execution_count": 20,
   "id": "44f2249e-6b4e-4a40-bde2-8d074c4f5518",
   "metadata": {},
   "outputs": [
    {
     "name": "stdout",
     "output_type": "stream",
     "text": [
      "[6.75 3.   5.   2.   2.  ]\n"
     ]
    }
   ],
   "source": [
    "# Create a new variable called grocery_list by adding cookies and double_batch.\n",
    "grocery_list = cookies + double_batch\n",
    "print(grocery_list)"
   ]
  },
  {
   "cell_type": "code",
   "execution_count": null,
   "id": "915d61c3-97f0-49eb-96bb-26bbca5c75a0",
   "metadata": {},
   "outputs": [],
   "source": []
  },
  {
   "cell_type": "code",
   "execution_count": null,
   "id": "5ccffea5-75eb-4f84-a83a-2322c25265a6",
   "metadata": {},
   "outputs": [],
   "source": []
  }
 ],
 "metadata": {
  "kernelspec": {
   "display_name": "Python 3 (ipykernel)",
   "language": "python",
   "name": "python3"
  },
  "language_info": {
   "codemirror_mode": {
    "name": "ipython",
    "version": 3
   },
   "file_extension": ".py",
   "mimetype": "text/x-python",
   "name": "python",
   "nbconvert_exporter": "python",
   "pygments_lexer": "ipython3",
   "version": "3.12.3"
  }
 },
 "nbformat": 4,
 "nbformat_minor": 5
}
