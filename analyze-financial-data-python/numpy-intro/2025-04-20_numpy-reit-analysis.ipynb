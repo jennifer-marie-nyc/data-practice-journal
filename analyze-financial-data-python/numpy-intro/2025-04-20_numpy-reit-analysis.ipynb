{
 "cells": [
  {
   "cell_type": "markdown",
   "id": "d6dbedd1-09bc-4880-b487-01d14ac5cbb6",
   "metadata": {},
   "source": [
    "# 🏢 Real Estate Investment Trust (REIT) Analysis with NumPy\n",
    "\n",
    "_This notebook is based on a Codecademy exercise titled “Real Estate Investment Trust Analysis.”  \n",
    "All analysis, reflection, and additional code are my own._\n",
    "\n",
    "---\n",
    "\n",
    "In this notebook, I’ll analyze two REITs:\n",
    "\n",
    "- **Sabra Health Care REIT Inc.** (`SBRA`) – invests in healthcare properties  \n",
    "- **Equity Residential** (`EQR`) – focuses on residential rental properties\n",
    "\n",
    "Using **NumPy** and basic financial statistics, I’ll explore returns, volatility, and comparative performance.\n",
    "\n",
    "This project is part of my ongoing **Data Practice Journal**, where I sharpen skills and build toward portfolio-level analysis in finance, consumer insights, and behavioral data.\n",
    "\n"
   ]
  },
  {
   "cell_type": "code",
   "execution_count": null,
   "id": "dff6205d-2160-4946-b215-e704df59a332",
   "metadata": {},
   "outputs": [],
   "source": []
  }
 ],
 "metadata": {
  "kernelspec": {
   "display_name": "Python 3 (ipykernel)",
   "language": "python",
   "name": "python3"
  },
  "language_info": {
   "codemirror_mode": {
    "name": "ipython",
    "version": 3
   },
   "file_extension": ".py",
   "mimetype": "text/x-python",
   "name": "python",
   "nbconvert_exporter": "python",
   "pygments_lexer": "ipython3",
   "version": "3.12.3"
  }
 },
 "nbformat": 4,
 "nbformat_minor": 5
}
