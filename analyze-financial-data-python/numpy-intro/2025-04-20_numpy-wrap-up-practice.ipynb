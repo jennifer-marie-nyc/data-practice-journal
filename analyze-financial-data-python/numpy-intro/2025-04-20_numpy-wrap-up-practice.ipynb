{
 "cells": [
  {
   "cell_type": "markdown",
   "id": "e2077778-6ea6-457f-984d-64dd48995318",
   "metadata": {},
   "source": [
    "This notebook contains short practice problems using SBRA and EQR REIT data, aligned with Codecademy's Intro to NumPy lesson. No advanced methods or finance-specific formulas — just clean NumPy work with slicing, logical ops, and basic functions."
   ]
  },
  {
   "cell_type": "markdown",
   "id": "19bf9228-ae42-48a3-890f-5195606efc31",
   "metadata": {},
   "source": [
    "# NumPy Practice Exercises"
   ]
  },
  {
   "cell_type": "markdown",
   "id": "7bcbe1a4-1b2d-40ba-8b8b-8ab6b2959c3b",
   "metadata": {},
   "source": [
    "## 1. Basic Slicing: First 5 Adjusted Closes\n",
    "Extract the first 5 adjusted closing prices for both SBRA and EQR using slicing."
   ]
  },
  {
   "cell_type": "code",
   "execution_count": 29,
   "id": "1a22c2c1-ccec-4694-b015-f56332094183",
   "metadata": {},
   "outputs": [],
   "source": [
    "import numpy as np"
   ]
  },
  {
   "cell_type": "code",
   "execution_count": 30,
   "id": "1d883d6d-9609-45f0-b017-d66163558a6c",
   "metadata": {},
   "outputs": [
    {
     "name": "stdout",
     "output_type": "stream",
     "text": [
      "[15.36233  16.012386 16.528606 16.882313 17.427212 17.522808 17.513248\n",
      " 17.427212 17.264698 17.417652 17.847836 18.105947 18.344938 18.306698\n",
      " 18.497892 18.77512  19.09059  19.386936 19.377378 19.55901  19.635489\n",
      " 19.425177 19.664167 19.539892 19.635489 19.80756  19.654606 19.60681\n",
      " 19.358257 19.32958  19.339357 19.544678 19.388243 19.241585 19.222029\n",
      " 19.143812 18.635395 18.381187 18.038986 17.716337 17.31547  17.247028\n",
      " 17.256807 17.149258 17.119926 17.071039 17.383911 17.608788 17.941214\n",
      " 17.970543 17.892326 17.726112 17.765223 17.980322 18.58651  18.293192\n",
      " 18.449629 18.762501 18.870049 19.192698 19.036261 18.899382 18.879826\n",
      " 18.694059 18.762501 18.958044 18.870049 18.801609 19.04604  19.241585\n",
      " 19.241585 19.222029 18.821163 18.361633 18.713614 18.410519 18.713614\n",
      " 18.909159 18.909159 19.153589 18.967821 19.124256 19.094927 19.143812\n",
      " 19.554455 19.456682 19.143812 19.319801 18.840717 19.310024 19.241585\n",
      " 19.417574 19.574011 19.75     19.709999 19.530001 19.73     19.700001\n",
      " 19.709999 19.75     19.540001 19.219999 19.370001 19.290001 19.24\n",
      " 19.1      19.32     19.450001 19.49     19.32     19.290001 19.32\n",
      " 19.48     19.43     19.790001 19.58     20.139999 20.049999 19.57\n",
      " 19.309999 19.26     18.870001 19.450001 19.690001]\n"
     ]
    }
   ],
   "source": [
    "adj_closings_sbra = np.genfromtxt(\"SBRA.csv\", delimiter=\",\", skip_header=1)[: ,5]\n",
    "print(adj_closings_sbra)"
   ]
  },
  {
   "cell_type": "code",
   "execution_count": 31,
   "id": "0fc89584-4535-4bea-9635-6a81d7613b4a",
   "metadata": {},
   "outputs": [
    {
     "name": "stdout",
     "output_type": "stream",
     "text": [
      "[62.800674 63.19466  63.588642 64.120514 65.322166 65.322166 66.395767\n",
      " 66.533653 66.61245  67.429955 68.040634 68.858147 69.064987 69.340775\n",
      " 69.28167  69.291527 69.606705 70.640915 71.281136 70.916695 71.468269\n",
      " 70.936401 71.694817 71.852402 71.901649 72.433533 72.335037 72.354729\n",
      " 71.448578 72.187286 72.019852 72.10849  72.423676 71.586472 72.748718\n",
      " 73.113152 72.394127 72.610817 72.226692 72.581276 72.394127 72.866913\n",
      " 72.817657 72.443382 72.325188 72.532021 73.319992 73.920807 73.782921\n",
      " 73.930656 73.635178 72.866913 72.394127 72.512329 73.664719 73.841385\n",
      " 73.910858 74.575829 74.41703  75.062149 74.754478 74.41703  75.121704\n",
      " 74.823952 74.714775 75.042297 74.992676 74.823952 75.776741 76.114189\n",
      " 76.868484 77.017357 75.1614   73.732208 74.506355 73.613106 74.397179\n",
      " 74.903351 75.399597 75.627869 74.734627 75.846214 75.945465 75.82637\n",
      " 76.014938 75.637794 74.208603 73.881088 74.258232 75.260651 75.270569\n",
      " 75.240791 75.61795  76.233284 76.044716 75.181252 75.786667 76.064568\n",
      " 76.531036 76.610435 75.637794 75.101845 75.250725 75.995094 75.667564\n",
      " 74.913277 76.669983 77.205933 77.394508 77.245636 77.215858 77.066986\n",
      " 77.344879 77.672401 78.079323 77.463982 77.841125 78.238121 77.44413\n",
      " 77.682327 76.332542 75.082001 75.610001 75.919998]\n"
     ]
    }
   ],
   "source": [
    "adj_closings_eqr = np.genfromtxt(\"EQR.csv\", delimiter=\",\", skip_header=1)[: ,5]\n",
    "print(adj_closings_eqr)"
   ]
  },
  {
   "cell_type": "code",
   "execution_count": 32,
   "id": "7ef8bff3-c86b-42df-9e2f-95d42918566f",
   "metadata": {},
   "outputs": [
    {
     "name": "stdout",
     "output_type": "stream",
     "text": [
      "First 5 SBRA: [15.36233  16.012386 16.528606 16.882313 17.427212]\n"
     ]
    }
   ],
   "source": [
    "print(f\"First 5 SBRA: {adj_closings_sbra[:5]}\")"
   ]
  },
  {
   "cell_type": "code",
   "execution_count": 33,
   "id": "08b13798-84d0-488c-bf7f-abd59f75c59f",
   "metadata": {},
   "outputs": [
    {
     "name": "stdout",
     "output_type": "stream",
     "text": [
      "First 5 EQR: [62.800674 63.19466  63.588642 64.120514 65.322166]\n"
     ]
    }
   ],
   "source": [
    "print(f\"First 5 EQR: {adj_closings_eqr[:5]}\")"
   ]
  },
  {
   "cell_type": "markdown",
   "id": "02c8ab38-4ade-4cbb-b599-1df04ca58d7b",
   "metadata": {},
   "source": [
    "## 2. Basic Stats: Mean, Min, Max\n",
    "Calculate the mean, min, and max adjusted closing price for each REIT."
   ]
  },
  {
   "cell_type": "code",
   "execution_count": 34,
   "id": "cfd168be-c7fb-4f0e-ac9e-a2eb1d904b3a",
   "metadata": {},
   "outputs": [
    {
     "name": "stdout",
     "output_type": "stream",
     "text": [
      "SBRA Mean: 18.796991080645164\n",
      "SBRA Max: 20.139999\n",
      "SBRA Min: 15.36233\n"
     ]
    }
   ],
   "source": [
    "print(f\"SBRA Mean: {np.mean(adj_closings_sbra)}\")\n",
    "print(f\"SBRA Max: {np.max(adj_closings_sbra)}\")\n",
    "print(f\"SBRA Min: {np.min(adj_closings_sbra)}\")"
   ]
  },
  {
   "cell_type": "code",
   "execution_count": 35,
   "id": "6d542c92-83ae-4f66-8ee2-fcaceb2b1c8d",
   "metadata": {},
   "outputs": [
    {
     "name": "stdout",
     "output_type": "stream",
     "text": [
      "EQR Mean: 73.46261270161288\n",
      "EQR Max: 78.238121\n",
      "EQR Min: 62.800674\n"
     ]
    }
   ],
   "source": [
    "print(f\"EQR Mean: {np.mean(adj_closings_eqr)}\")\n",
    "print(f\"EQR Max: {np.max(adj_closings_eqr)}\")\n",
    "print(f\"EQR Min: {np.min(adj_closings_eqr)}\")"
   ]
  },
  {
   "cell_type": "markdown",
   "id": "8982e305-6299-4bae-b868-d78a26156a3d",
   "metadata": {},
   "source": [
    "## 3. Logical Operations: Days Over $70\n",
    "\n",
    "How many days did EQR's adjusted closing price exceed $70?"
   ]
  },
  {
   "cell_type": "code",
   "execution_count": 37,
   "id": "93c7d9d1-3396-4be4-9267-b14e26999b0a",
   "metadata": {},
   "outputs": [
    {
     "name": "stdout",
     "output_type": "stream",
     "text": [
      "[False False False False False False False False False False False False\n",
      " False False False False False  True  True  True  True  True  True  True\n",
      "  True  True  True  True  True  True  True  True  True  True  True  True\n",
      "  True  True  True  True  True  True  True  True  True  True  True  True\n",
      "  True  True  True  True  True  True  True  True  True  True  True  True\n",
      "  True  True  True  True  True  True  True  True  True  True  True  True\n",
      "  True  True  True  True  True  True  True  True  True  True  True  True\n",
      "  True  True  True  True  True  True  True  True  True  True  True  True\n",
      "  True  True  True  True  True  True  True  True  True  True  True  True\n",
      "  True  True  True  True  True  True  True  True  True  True  True  True\n",
      "  True  True  True  True]\n",
      "Days EQR > $70: 107\n"
     ]
    }
   ],
   "source": [
    "days_over_70 = adj_closings_eqr > 70\n",
    "print(days_over_70)\n",
    "print(\"Days EQR > $70:\", np.sum(days_over_70))"
   ]
  },
  {
   "cell_type": "markdown",
   "id": "b02da02a-0cf4-4bda-99ed-8a5bf34314b2",
   "metadata": {},
   "source": [
    "## 4. Boolean Indexing: Pull The Values\n",
    "Get the actual values from EQR where price > $70"
   ]
  },
  {
   "cell_type": "code",
   "execution_count": 26,
   "id": "b417e86b-e0b6-4047-b1db-da1a5c818be6",
   "metadata": {},
   "outputs": [
    {
     "data": {
      "text/plain": [
       "array([70.640915, 71.281136, 70.916695, 71.468269, 70.936401, 71.694817,\n",
       "       71.852402, 71.901649, 72.433533, 72.335037, 72.354729, 71.448578,\n",
       "       72.187286, 72.019852, 72.10849 , 72.423676, 71.586472, 72.748718,\n",
       "       73.113152, 72.394127, 72.610817, 72.226692, 72.581276, 72.394127,\n",
       "       72.866913, 72.817657, 72.443382, 72.325188, 72.532021, 73.319992,\n",
       "       73.920807, 73.782921, 73.930656, 73.635178, 72.866913, 72.394127,\n",
       "       72.512329, 73.664719, 73.841385, 73.910858, 74.575829, 74.41703 ,\n",
       "       75.062149, 74.754478, 74.41703 , 75.121704, 74.823952, 74.714775,\n",
       "       75.042297, 74.992676, 74.823952, 75.776741, 76.114189, 76.868484,\n",
       "       77.017357, 75.1614  , 73.732208, 74.506355, 73.613106, 74.397179,\n",
       "       74.903351, 75.399597, 75.627869, 74.734627, 75.846214, 75.945465,\n",
       "       75.82637 , 76.014938, 75.637794, 74.208603, 73.881088, 74.258232,\n",
       "       75.260651, 75.270569, 75.240791, 75.61795 , 76.233284, 76.044716,\n",
       "       75.181252, 75.786667, 76.064568, 76.531036, 76.610435, 75.637794,\n",
       "       75.101845, 75.250725, 75.995094, 75.667564, 74.913277, 76.669983,\n",
       "       77.205933, 77.394508, 77.245636, 77.215858, 77.066986, 77.344879,\n",
       "       77.672401, 78.079323, 77.463982, 77.841125, 78.238121, 77.44413 ,\n",
       "       77.682327, 76.332542, 75.082001, 75.610001, 75.919998])"
      ]
     },
     "execution_count": 26,
     "metadata": {},
     "output_type": "execute_result"
    }
   ],
   "source": [
    "adj_closings_eqr[adj_closings_eqr > 70]"
   ]
  },
  {
   "cell_type": "markdown",
   "id": "d3488582-b36f-4fcd-91be-26aa682cf911",
   "metadata": {},
   "source": [
    "## 5. Differences Between Two Arrays\n",
    "Compare the last 5 prices for both REITs"
   ]
  },
  {
   "cell_type": "code",
   "execution_count": 38,
   "id": "9fe3518c-c985-4755-bc51-3eab05d30e8e",
   "metadata": {},
   "outputs": [
    {
     "name": "stdout",
     "output_type": "stream",
     "text": [
      "SBRA last 5: [19.309999 19.26     18.870001 19.450001 19.690001]\n"
     ]
    }
   ],
   "source": [
    "print(\"SBRA last 5:\", adj_closings_sbra[-5:])"
   ]
  },
  {
   "cell_type": "code",
   "execution_count": 39,
   "id": "538e630f-8bac-4ab1-8794-a1153f480654",
   "metadata": {},
   "outputs": [
    {
     "name": "stdout",
     "output_type": "stream",
     "text": [
      "EQR last 5: [77.682327 76.332542 75.082001 75.610001 75.919998]\n"
     ]
    }
   ],
   "source": [
    "print(\"EQR last 5:\", adj_closings_eqr[-5:])"
   ]
  },
  {
   "cell_type": "code",
   "execution_count": 40,
   "id": "ac1ae9f9-3b24-497d-a215-f1471c629ee9",
   "metadata": {},
   "outputs": [
    {
     "name": "stdout",
     "output_type": "stream",
     "text": [
      "Difference (EQR - SBRA): [-58.372328 -57.072542 -56.212    -56.16     -56.229997]\n"
     ]
    }
   ],
   "source": [
    "print(\"Difference (EQR - SBRA):\", adj_closings_sbra[-5:] - adj_closings_eqr[-5:])"
   ]
  },
  {
   "cell_type": "markdown",
   "id": "bcbfb38d-80af-4a3b-9262-2a2013d1aaad",
   "metadata": {},
   "source": [
    "## 6. Rolling difference"
   ]
  },
  {
   "cell_type": "code",
   "execution_count": 44,
   "id": "8891bc57-e018-4434-b5bc-e63b534280cd",
   "metadata": {},
   "outputs": [
    {
     "name": "stdout",
     "output_type": "stream",
     "text": [
      "SBRA daily differences: [0.650056 0.51622  0.353707 0.544899 0.095596]\n"
     ]
    }
   ],
   "source": [
    "diff_sbra = np.diff(adj_closings_sbra)\n",
    "print(\"SBRA daily differences:\", diff_sbra[:5])"
   ]
  },
  {
   "cell_type": "code",
   "execution_count": null,
   "id": "958a1558-680c-46c6-be89-5405cd390f87",
   "metadata": {},
   "outputs": [],
   "source": []
  }
 ],
 "metadata": {
  "kernelspec": {
   "display_name": "Python 3 (ipykernel)",
   "language": "python",
   "name": "python3"
  },
  "language_info": {
   "codemirror_mode": {
    "name": "ipython",
    "version": 3
   },
   "file_extension": ".py",
   "mimetype": "text/x-python",
   "name": "python",
   "nbconvert_exporter": "python",
   "pygments_lexer": "ipython3",
   "version": "3.12.3"
  }
 },
 "nbformat": 4,
 "nbformat_minor": 5
}
