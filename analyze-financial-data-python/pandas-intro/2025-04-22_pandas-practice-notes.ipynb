{
 "cells": [
  {
   "cell_type": "markdown",
   "id": "1de2b6f2-d9fc-4ce8-9eef-aa4e32133aa0",
   "metadata": {},
   "source": [
    "# 🐼 Pandas Notes\n",
    "**Spring 2025 – Data Practice Journal**\n",
    "\n",
    "This notebook contains personal notes and examples from working through the **Pandas** section of Codecademy's data analysis course.  \n",
    "All explanations and examples are written in my own words based on course material."
   ]
  },
  {
   "cell_type": "markdown",
   "id": "996829fe-dd87-49f6-a97b-d7e8cb785905",
   "metadata": {},
   "source": [
    "_Note: This notebook evolves over time as I continue to practice and build fluency._"
   ]
  },
  {
   "cell_type": "code",
   "execution_count": 1,
   "id": "18ecbf73-030e-4c34-8d42-cff41daa8997",
   "metadata": {},
   "outputs": [],
   "source": [
    "import pandas as pd"
   ]
  },
  {
   "cell_type": "code",
   "execution_count": 2,
   "id": "13b975d0-f786-4091-b8a4-8953cff8a75f",
   "metadata": {},
   "outputs": [],
   "source": [
    "import numpy as np"
   ]
  },
  {
   "cell_type": "code",
   "execution_count": null,
   "id": "71132c6e-baa4-4374-aad9-3bcbd5c52c1f",
   "metadata": {},
   "outputs": [],
   "source": []
  }
 ],
 "metadata": {
  "kernelspec": {
   "display_name": "Python 3 (ipykernel)",
   "language": "python",
   "name": "python3"
  },
  "language_info": {
   "codemirror_mode": {
    "name": "ipython",
    "version": 3
   },
   "file_extension": ".py",
   "mimetype": "text/x-python",
   "name": "python",
   "nbconvert_exporter": "python",
   "pygments_lexer": "ipython3",
   "version": "3.12.3"
  }
 },
 "nbformat": 4,
 "nbformat_minor": 5
}
