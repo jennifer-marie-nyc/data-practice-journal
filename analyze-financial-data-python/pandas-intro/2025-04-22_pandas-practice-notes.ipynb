{
 "cells": [
  {
   "cell_type": "markdown",
   "id": "1de2b6f2-d9fc-4ce8-9eef-aa4e32133aa0",
   "metadata": {},
   "source": [
    "# 🐼 Pandas Notes\n",
    "**Spring 2025 – Data Practice Journal**\n",
    "\n",
    "This notebook contains notes and examples from working through the **Pandas** section of Codecademy's Analyze Financial Data with Python course.  \n",
    "(Some code snippets notes have been adapted from Codecademy for practice purposes.)"
   ]
  },
  {
   "cell_type": "markdown",
   "id": "996829fe-dd87-49f6-a97b-d7e8cb785905",
   "metadata": {},
   "source": [
    "_Note: This notebook evolves over time as I continue to practice and build fluency._"
   ]
  },
  {
   "cell_type": "code",
   "execution_count": 1,
   "id": "18ecbf73-030e-4c34-8d42-cff41daa8997",
   "metadata": {},
   "outputs": [],
   "source": [
    "import pandas as pd"
   ]
  },
  {
   "cell_type": "code",
   "execution_count": 2,
   "id": "13b975d0-f786-4091-b8a4-8953cff8a75f",
   "metadata": {},
   "outputs": [],
   "source": [
    "import numpy as np"
   ]
  },
  {
   "cell_type": "markdown",
   "id": "f7cd1352-cf7c-45bd-950d-333034e4db4b",
   "metadata": {},
   "source": [
    "## DataFrames"
   ]
  },
  {
   "cell_type": "markdown",
   "id": "e6125443-6401-45d1-a452-33e1b4347c35",
   "metadata": {},
   "source": [
    "### Create a DataFrame\n",
    "\n",
    "A DataFrame is an object that stores data as rows and columns. It can be created manually or filled with data from a CSV, Excel spreadsheet, or SQL query.\n",
    "\n",
    "DataFrames have rows and columns. Each column has a name, which is a string. Each row has an index, which is an integer.\n",
    "\n",
    "DataFrames may contain different data types such as strings, ints, floats, tuples, etc.\n",
    "\n",
    "A dictionary can be passed into pd.DataFrame(). Each key is a column name and each value is a list of column values. The columns must all be the same length. Example:"
   ]
  },
  {
   "cell_type": "code",
   "execution_count": 4,
   "id": "717bc387-0ebd-43bc-a1e2-f852f1ca647f",
   "metadata": {},
   "outputs": [
    {
     "name": "stdout",
     "output_type": "stream",
     "text": [
      "         name         address  age\n",
      "0  John Smith    123 Main St.   34\n",
      "1    Jane Doe  456 Maple Ave.   28\n",
      "2   Joe Schmo    789 Broadway   51\n"
     ]
    }
   ],
   "source": [
    "df1 = pd.DataFrame({\n",
    "    'name': ['John Smith', 'Jane Doe', 'Joe Schmo'],\n",
    "    'address': ['123 Main St.', '456 Maple Ave.', '789 Broadway'],\n",
    "    'age': [34, 28, 51]\n",
    "})\n",
    "\n",
    "print(df1)"
   ]
  },
  {
   "cell_type": "markdown",
   "id": "517b514b-56f6-4342-a44c-cca6151f8b16",
   "metadata": {},
   "source": [
    "Data can also be added using *lists*.\n",
    "\n",
    "For example, you can pass in a list of lists, where each one represents a row of data. Use the keyword `columns` to pass a list of column names."
   ]
  },
  {
   "cell_type": "code",
   "execution_count": 5,
   "id": "8b88d187-2e8f-4fb5-8eab-05af137e31d9",
   "metadata": {},
   "outputs": [
    {
     "name": "stdout",
     "output_type": "stream",
     "text": [
      "         name         address  age\n",
      "0  John Smith    123 Main St.   34\n",
      "1    Jane Doe  456 Maple Ave.   28\n",
      "2   Joe Schmo    789 Broadway   51\n"
     ]
    }
   ],
   "source": [
    "df2 = pd.DataFrame([\n",
    "    ['John Smith', '123 Main St.', 34],\n",
    "    ['Jane Doe', '456 Maple Ave.', 28],\n",
    "    ['Joe Schmo', '789 Broadway', 51]\n",
    "    ],\n",
    "    columns=['name', 'address', 'age'])\n",
    "\n",
    "print(df2)"
   ]
  },
  {
   "cell_type": "markdown",
   "id": "67bb5e9e-836c-4cc4-b2ef-01097ffc2245",
   "metadata": {},
   "source": [
    "## DataFrames: Loading and Saving CSVs"
   ]
  },
  {
   "cell_type": "markdown",
   "id": "64504b6c-f998-4aae-91ab-0a2424f97466",
   "metadata": {},
   "source": [
    "To load CSV data into a DataFrame in Pandas, use `.read_csv()`"
   ]
  },
  {
   "cell_type": "code",
   "execution_count": 18,
   "id": "c2f18651-e0f6-47e9-98e1-bb82f09f527a",
   "metadata": {},
   "outputs": [],
   "source": [
    " sample_data_frame = pd.read_csv('sample.csv')\n",
    "# In this example, we read data from an existing CSV file into a variable called sample_data_frame\n",
    "# (Not a real CSV file, code will not run.)"
   ]
  },
  {
   "cell_type": "markdown",
   "id": "223d116a-76cf-42c0-8ca5-a8de6ade362c",
   "metadata": {},
   "source": [
    "To save data to a CSV, use `.to_csv()`"
   ]
  },
  {
   "cell_type": "code",
   "execution_count": 12,
   "id": "e33fe596-53a2-4eee-bc7a-ba1dfaedeb9e",
   "metadata": {},
   "outputs": [],
   "source": [
    "df1.to_csv('new-csv-file.csv')\n",
    "# In this example, df1 is the DataFrame object on wich the .to_csv() method is called."
   ]
  },
  {
   "cell_type": "markdown",
   "id": "986cc1cd-ecfc-405a-80ab-53b8f18acade",
   "metadata": {},
   "source": [
    "## Inspect a DataFrame\n",
    "If a DataFrame is small, you can display it using `print(df)`.\n",
    "\n",
    "If it's a larger DataFrame, it's helpful to be able to inspeact a few items without having to look at the entire DataFrame.\n",
    "\n",
    "The method `.head()` displays the first 5 rows of a DataFrame. If you want to see more rows, you can pass in the positional argument `n`. For example, `df.head(10)` would show the first 10 rows.\n",
    "\n",
    "The method **`df.info()`** gives some statistics for each column."
   ]
  },
  {
   "cell_type": "code",
   "execution_count": 13,
   "id": "46737726-84de-4807-9513-8f70c6e2fee4",
   "metadata": {},
   "outputs": [
    {
     "name": "stdout",
     "output_type": "stream",
     "text": [
      "         name         address  age\n",
      "0  John Smith    123 Main St.   34\n",
      "1    Jane Doe  456 Maple Ave.   28\n",
      "2   Joe Schmo    789 Broadway   51\n"
     ]
    }
   ],
   "source": [
    "print(df1.head())"
   ]
  },
  {
   "cell_type": "code",
   "execution_count": 14,
   "id": "e92b9324-099f-4eac-9c19-a8b988681d4a",
   "metadata": {},
   "outputs": [
    {
     "name": "stdout",
     "output_type": "stream",
     "text": [
      "<class 'pandas.core.frame.DataFrame'>\n",
      "RangeIndex: 3 entries, 0 to 2\n",
      "Data columns (total 3 columns):\n",
      " #   Column   Non-Null Count  Dtype \n",
      "---  ------   --------------  ----- \n",
      " 0   name     3 non-null      object\n",
      " 1   address  3 non-null      object\n",
      " 2   age      3 non-null      int64 \n",
      "dtypes: int64(1), object(2)\n",
      "memory usage: 204.0+ bytes\n",
      "None\n"
     ]
    }
   ],
   "source": [
    "print(df1.info())"
   ]
  },
  {
   "cell_type": "markdown",
   "id": "4f968ba6-8485-43f5-92d2-bd00c1d91223",
   "metadata": {},
   "source": [
    "## Select Columns\n",
    "Two possible syntaxes for selecting all values from a column:\n",
    "1. Select the column as if you were selecting a value from a dictionary using a key. E.g., `customers['age']`\n",
    "2. If the name of a column follows all the rules for avariable name (doesn't start w/ a number, doesn't contain spaces or special chars, etc.), then you can selecting using *dot notation*:"
   ]
  },
  {
   "cell_type": "code",
   "execution_count": null,
   "id": "bc2f177e-e7b8-472b-9c20-b28a0cf55e0f",
   "metadata": {},
   "outputs": [],
   "source": [
    "df.MySecondColumn"
   ]
  },
  {
   "cell_type": "markdown",
   "id": "6f1626a8-0a5c-45f4-ad91-6713d8cc3a9d",
   "metadata": {},
   "source": [
    "In this example, we would type `customers.age`"
   ]
  },
  {
   "cell_type": "markdown",
   "id": "f868d6aa-958c-4ab4-85a3-03da5252fb5b",
   "metadata": {},
   "source": [
    "When we select a single column, the result is called a *Series*."
   ]
  },
  {
   "cell_type": "markdown",
   "id": "2047f1c0-ad59-4027-a9cc-ff27b1bb8437",
   "metadata": {},
   "source": [
    "## Select Multiple Columns\n",
    "Use double brackets and column names separated by commas:"
   ]
  },
  {
   "cell_type": "code",
   "execution_count": null,
   "id": "e3f6d709-9c5d-4eb8-9952-56d6afaa3743",
   "metadata": {},
   "outputs": [],
   "source": [
    "new_df = orders[['last_name', 'email']]"
   ]
  },
  {
   "cell_type": "markdown",
   "id": "c9ab6e73-acae-4e88-b0dd-6aa99b197765",
   "metadata": {},
   "source": []
  },
  {
   "cell_type": "markdown",
   "id": "07ef8036-aed5-40de-9f49-0f1c14eeabb2",
   "metadata": {},
   "source": [
    "## Select Rows\n",
    "DataFrames are zero-indexed, which applies when selecting rows.\n",
    "For example, if you wanted to select the third row from a DataFrame called orders, you would use the following:"
   ]
  },
  {
   "cell_type": "code",
   "execution_count": null,
   "id": "fbea3d84-f734-4712-a637-c930970442be",
   "metadata": {},
   "outputs": [],
   "source": [
    "orders.iloc[2]"
   ]
  },
  {
   "cell_type": "markdown",
   "id": "4c309d16-9df8-44a1-b791-61473dddfae6",
   "metadata": {},
   "source": [
    "## Select Multiple Rows\n",
    "\n",
    "Several ways to select multiple rows:\n",
    "\n",
    "`orders.iloc[3:7]` selects all rows starting at the 3rd row and up to but *not including* the 7th row\n",
    "\n",
    "`orders.iloc[:4]` selects all rows up to, but *not including* the 4th row\n",
    "\n",
    "`orders.iloc[-3:]` selects the rows starting at the 3rd to last orw and upto and *including* the final row"
   ]
  },
  {
   "cell_type": "markdown",
   "id": "a0e55a59-d228-4360-bffc-d801de9139d4",
   "metadata": {},
   "source": [
    "## Select Rows with Logic\n",
    "You can select a subset of a DataFrame by using logical statements:\n",
    "`df[df.MyColumnName == desired_column_value]`"
   ]
  },
  {
   "cell_type": "markdown",
   "id": "03641a82-3579-42ea-864f-bcca123b662a",
   "metadata": {},
   "source": [
    "If we wanted to select all rows where the customer's age is 30:\n",
    "`df[df.age == 30]`"
   ]
  },
  {
   "cell_type": "markdown",
   "id": "064b6010-743b-4f6f-8bf8-b07a15b1bc3d",
   "metadata": {},
   "source": [
    "In Python `==` tests for equality. We can also use other logical statements such as:\n",
    "\n",
    "Greater than, `>`\n",
    "`df[df.age > 30]`\n",
    "\n",
    "Less than, `<`\n",
    "`df[df.age < 30]`\n",
    "\n",
    "Not equal, `!=` -- This selects all rows where the customer's name is *not* `Clara Oswald`:\n",
    "`df[df.name != 'Clara Oswald']`"
   ]
  },
  {
   "cell_type": "markdown",
   "id": "00a04547-ee2c-4a75-ab9c-eedcb327fbff",
   "metadata": {},
   "source": [
    "You can also **combine multiple logical statements**.\n",
    "\n",
    "In Python, `|` is \"or\" and `&` is \"and\".\n",
    "\n",
    "Example: to select all rows where the customer’s age was under 30 or the customer’s name was “Martha Jones”:"
   ]
  },
  {
   "cell_type": "code",
   "execution_count": 17,
   "id": "52cc71b5-c91f-4f16-a62c-1d035357a4d8",
   "metadata": {},
   "outputs": [
    {
     "ename": "NameError",
     "evalue": "name 'df' is not defined",
     "output_type": "error",
     "traceback": [
      "\u001b[31m---------------------------------------------------------------------------\u001b[39m",
      "\u001b[31mNameError\u001b[39m                                 Traceback (most recent call last)",
      "\u001b[36mCell\u001b[39m\u001b[36m \u001b[39m\u001b[32mIn[17]\u001b[39m\u001b[32m, line 1\u001b[39m\n\u001b[32m----> \u001b[39m\u001b[32m1\u001b[39m \u001b[43mdf\u001b[49m[(df.age < \u001b[32m30\u001b[39m) | \n\u001b[32m      2\u001b[39m    (df.name == \u001b[33m'\u001b[39m\u001b[33mMartha Jones\u001b[39m\u001b[33m'\u001b[39m)]\n",
      "\u001b[31mNameError\u001b[39m: name 'df' is not defined"
     ]
    }
   ],
   "source": [
    "df[(df.age < 30) | \n",
    "   (df.name == 'Martha Jones')]"
   ]
  },
  {
   "cell_type": "markdown",
   "id": "78a14934-0fb9-46e5-9069-bda976c78769",
   "metadata": {},
   "source": [
    "Suppose we want to select the rows where the customer’s name is either “Martha Jones”, “Rose Tyler” or “Amy Pond”.\n",
    "\n",
    "We could use the `isin` command to check that df.name is one of a list of values:"
   ]
  },
  {
   "cell_type": "code",
   "execution_count": null,
   "id": "d1eae14c-91bd-429a-bf63-c55227b918c1",
   "metadata": {},
   "outputs": [],
   "source": [
    "df[df.name.isin(['Martha Jones',\n",
    "     'Rose Tyler',\n",
    "     'Amy Pond'])]"
   ]
  },
  {
   "cell_type": "markdown",
   "id": "f5591120-0d4d-4fef-a7ad-34757da1436c",
   "metadata": {},
   "source": [
    "## Setting Indices\n",
    "Selecting a subset of a DataFrame using logic results in non-consecutive indices. This is inelegant and makes it difficult to use `iloc()`.\n",
    "\n",
    "This can be corrected using the method `.reset_index()`. Running this on a dataframe will reset the indices and move the old indices to a column called `index`. If not needed, you can use the keyword `drop=True` to avoid getting the extra column.\n",
    "\n",
    "On a DataFrame called `df`, the full command would be:\n",
    "\n",
    "`df.reset_index(drop=True)`"
   ]
  },
  {
   "cell_type": "markdown",
   "id": "198ec6b7-f5be-4f5c-852d-f70118a86638",
   "metadata": {},
   "source": [
    "Using `reset_index()` will return a new Dataframe. To simply modify an existing DataFrame, use the keyword `inplace=True`."
   ]
  },
  {
   "cell_type": "markdown",
   "id": "7364abf6-72af-466f-9f79-620a2b70cf3e",
   "metadata": {},
   "source": [
    "## Adding a Column\n",
    "One way to add a new column is by giving a list of the same length as the existing DataFrame."
   ]
  },
  {
   "cell_type": "code",
   "execution_count": null,
   "id": "8408a5a9-ae11-43cb-ac30-04606bca3383",
   "metadata": {},
   "outputs": [],
   "source": [
    "df['Quantity'] = [50, 120, 95, 60]"
   ]
  },
  {
   "cell_type": "code",
   "execution_count": null,
   "id": "c9a66886-6ee1-4c9f-86f3-0f04a9cbc140",
   "metadata": {},
   "outputs": [],
   "source": []
  },
  {
   "cell_type": "markdown",
   "id": "781e47d1-2bc7-47c4-9609-c5314e4330a9",
   "metadata": {},
   "source": [
    "To add a new column that has the same value for all rows in the DataFrame:"
   ]
  },
  {
   "cell_type": "code",
   "execution_count": null,
   "id": "a6877735-ecf7-43cf-bc8c-245a20a235d7",
   "metadata": {},
   "outputs": [],
   "source": [
    "df['In Stock?'] = True"
   ]
  },
  {
   "cell_type": "markdown",
   "id": "c316040a-d624-44d0-bf2b-580da384a136",
   "metadata": {},
   "source": [
    "You can also add a new column by performing a function on the existing columns.\n",
    "\n",
    "For example, you might want to add a column with sales tax for each item. The below multiplies each `Price` by `0.075`, the sales tax for this state:"
   ]
  },
  {
   "cell_type": "code",
   "execution_count": null,
   "id": "46530d65-4c4d-4cbf-9241-b3e096f3da37",
   "metadata": {},
   "outputs": [],
   "source": [
    "df['Sales Tax'] = df.Price * 0.075"
   ]
  },
  {
   "cell_type": "markdown",
   "id": "cf55489a-d29f-49c9-8d9e-2d38c002b0c5",
   "metadata": {},
   "source": [
    "## Performing Column Operations\n",
    "Use the `apply` function to apply a functino to every value in a particular column.\n",
    "\n",
    "For example, this code overwrites the existing `Name` column by applying the function `upper` to every row in `Name`."
   ]
  },
  {
   "cell_type": "code",
   "execution_count": null,
   "id": "f146af6d-2431-47b9-94a3-01ef21291a13",
   "metadata": {},
   "outputs": [],
   "source": [
    "df['Name'] = df.Name.apply(str.upper)"
   ]
  },
  {
   "cell_type": "code",
   "execution_count": null,
   "id": "bca18419-751b-46ef-bc37-9d10382abbbd",
   "metadata": {},
   "outputs": [],
   "source": []
  }
 ],
 "metadata": {
  "kernelspec": {
   "display_name": "Python 3 (ipykernel)",
   "language": "python",
   "name": "python3"
  },
  "language_info": {
   "codemirror_mode": {
    "name": "ipython",
    "version": 3
   },
   "file_extension": ".py",
   "mimetype": "text/x-python",
   "name": "python",
   "nbconvert_exporter": "python",
   "pygments_lexer": "ipython3",
   "version": "3.12.3"
  }
 },
 "nbformat": 4,
 "nbformat_minor": 5
}
